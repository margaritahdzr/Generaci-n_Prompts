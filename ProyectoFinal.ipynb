{
  "metadata": {
    "kernelspec": {
      "name": "python",
      "display_name": "Python (Pyodide)",
      "language": "python"
    },
    "language_info": {
      "codemirror_mode": {
        "name": "python",
        "version": 3
      },
      "file_extension": ".py",
      "mimetype": "text/x-python",
      "name": "python",
      "nbconvert_exporter": "python",
      "pygments_lexer": "ipython3",
      "version": "3.8"
    }
  },
  "nbformat_minor": 4,
  "nbformat": 4,
  "cells": [
    {
      "cell_type": "code",
      "source": "# Importar la librería de OpenAI\nimport openai\n\n# Este bloque establece los contextos y los prompts para generar texto y una imagen.\n# Contexto y prompt para la generación de texto optimizado para SEO.\ncontext_text = \"Eres un procesador de texto que necesita crear contenido SEO optimizado.\"\nprompt_text = \"Genera un título atractivo y contenido optimizado para SEO destinado a profesionales del marketing digital, compuesto por un título de cinco palabras y dos párrafos de cuarenta palabras cada uno.\"\n\n# Contexto y prompt para la generación de una imagen basada en el texto generado.\ncontext_image = \"Eres un procesador de texto que necesita crear imágenes basadas en descripciones de texto.\"\nprompt_image = \"Genera una imagen del artículo que hiciste.\"\n\n# Definir las conversaciones para cada solicitud\nconversation_text = [\n    {\"role\": \"system\", \"content\": context_text},\n    {\"role\": \"user\", \"content\": prompt_text}\n]\n\nconversation_image = [\n    {\"role\": \"system\", \"content\": context_image},\n    {\"role\": \"user\", \"content\": prompt_image}\n]\n\n# Uso de bloques try-except para manejar errores potenciales durante la llamada a la API.\ntry:\n    # Generar contenido de texto utilizando el modelo GPT-3.5 Turbo.\n    response_text = openai.ChatCompletion.create(\n        model='gpt-3.5-turbo',\n        messages=conversation_text,\n        max_tokens=200\n    )\n    print(\"Texto generado: \", response_text.choices[0]['message']['content'])\n\n    # Usar el texto generado como descripción para solicitar la generación de una imagen.\n    description_for_image = response_text.choices[0]['message']['content']\n    response_image = openai.Image.create(\n        model=\"dalle-2\",  # Uso de DALL·E 2 para la generación de imágenes.\n        prompt=description_for_image,\n        n=1,\n        size=\"1024x1024\"\n    )\n    print(\"URL de la imagen generada: \", response_image['data'][0]['url'])\n\nexcept openai.error.OpenAIError as e:\n    # Manejar errores generales de la API de OpenAI\n    print(\"Error de OpenAI: \", e)\nexcept openai.error.RateLimitError:\n    # Manejar errores de límite de tasa de la API\n    print(\"Se ha excedido el límite de cuota de la API.\")\n",
      "metadata": {
        "trusted": true
      },
      "outputs": [],
      "execution_count": null
    },
    {
      "cell_type": "code",
      "source": "",
      "metadata": {
        "trusted": true
      },
      "outputs": [],
      "execution_count": null
    }
  ]
}