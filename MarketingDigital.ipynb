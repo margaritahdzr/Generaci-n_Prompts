{
  "metadata": {
    "kernelspec": {
      "name": "python",
      "display_name": "Python (Pyodide)",
      "language": "python"
    },
    "language_info": {
      "codemirror_mode": {
        "name": "python",
        "version": 3
      },
      "file_extension": ".py",
      "mimetype": "text/x-python",
      "name": "python",
      "nbconvert_exporter": "python",
      "pygments_lexer": "ipython3",
      "version": "3.8"
    }
  },
  "nbformat_minor": 4,
  "nbformat": 4,
  "cells": [
    {
      "cell_type": "code",
      "source": "import openai\n\nopenai.api_key = \"sk-proj-UkQxVWwwN9sblCRW6gxQT3BlbkFJBsJruh9pIZkcHXwTWjfH\"\n\n# El contexto que ayudará a dirigir la respuesta del modelo\ncontext = \"Eres un procesador de texto que necesita crear contenido SEO optimizado.\"\n\n# El prompt que define la tarea específica que el modelo debe realizar\nprompt = \"Genera un título atractivo y contenido optimizado para SEO destinado a profesionales del marketing digital, compuesto por un título de cinco palabras y dos párrafos de cuarenta palabras cada uno.\"\n\nconversation = [\n    {\"role\": \"system\", \"content\": context},\n    {\"role\": \"user\", \"content\": prompt}\n]\n\ntry:\n    # Hace la solicitud al modelo de OpenAI\n    response = openai.ChatCompletion.create(\n        model='gpt-3.5-turbo',  \n        messages=conversation,\n        max_tokens=200  \n    )\n\n    # Extrae y muestra la respuesta del modelo\n    message = response.choices[0]['message']\n    print(\"{}: {}\".format(message['role'], message['content']))\n\nexcept openai.error.OpenAIError as e:\n    # Maneja excepciones generales de la API de OpenAI\n    print(\"Error de OpenAI:\", e)\nexcept openai.error.RateLimitError:\n    # Maneja específicamente el error de límite de tasa\n    print(\"Se ha excedido el límite de cuota de la API.\")\n",
      "metadata": {
        "trusted": true
      },
      "outputs": [],
      "execution_count": null
    }
  ]
}